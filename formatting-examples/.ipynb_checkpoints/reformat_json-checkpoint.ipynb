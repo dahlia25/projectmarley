{
 "cells": [
  {
   "cell_type": "code",
   "execution_count": 1,
   "id": "baf72a2e-2686-4393-9a2e-71768ae2c91a",
   "metadata": {},
   "outputs": [],
   "source": [
    "import json"
   ]
  },
  {
   "cell_type": "code",
   "execution_count": 12,
   "id": "a243610e-342a-4231-8692-4eb75987a98f",
   "metadata": {
    "scrolled": true,
    "tags": []
   },
   "outputs": [
    {
     "data": {
      "text/plain": [
       "{'What are the potential causes of a dog shivering or trembling?': 'Causes may include joy, toxic food ingestion, pain, old age, nausea, poisoning, and more.',\n",
       " 'When should you talk to your vet if your dog is shaking or trembling suddenly?': \"If your dog shows symptoms like diarrhea, vomiting, limping, or other signs of distress, it's important to consult your vet immediately.\",\n",
       " 'What are some common reasons for dogs to shake or tremble?': 'Excitement, pain, old age, nausea, poisoning, and seizure disorders are common reasons for dogs to shake or tremble.',\n",
       " 'What are the signs of distemper in dogs?': \"Signs of distemper include eye and nose discharge, fever, coughing, and tremors. It's most common in unvaccinated puppies and adolescent dogs.\",\n",
       " 'How is distemper in dogs treated?': 'Treatment involves supportive care and may include antibiotics, airway dilators, physical therapy, and fluids to manage dehydration.',\n",
       " 'What is Generalized Tremor Syndrome (GTS) in dogs?': 'GTS, also known as white shaker dog syndrome, is characterized by tremors and is more common in small, white breeds. Treatment typically involves corticosteroids.',\n",
       " 'What are some signs of nausea in dogs?': 'Signs of nausea in dogs include listlessness, lip smacking, excessive salivation, hiding, yawning, vomiting, and shaking.',\n",
       " 'How is nausea in dogs treated?': 'Treatment for nausea depends on the cause, and it may involve contacting your vet or Animal Poison Control Center in cases of poisoning.',\n",
       " 'What can cause tremors in older dogs?': \"Old age and pain can cause tremors in older dogs, and it's essential to consult with your vet to rule out any underlying issues.\",\n",
       " 'What are some items that can be poisonous to dogs?': 'Chocolate, cigarettes (nicotine poisoning), xylitol (found in gum), and snail baits containing metaldehyde are examples of items toxic to dogs.',\n",
       " 'What are the symptoms of poisoning in dogs?': 'Symptoms include tremors, weakness, disorientation, depression, drooling, vomiting, diarrhea, and seizures. Immediate vet consultation is crucial.',\n",
       " 'What neurological disorder in dogs can cause seizures?': 'Epilepsy is a neurological disorder in dogs that can cause seizures. Treatment may involve medications like keppra, phenobarbital, or potassium bromide.',\n",
       " 'Why do some dogs shake or tremble out of excitement?': 'Excitement, especially when greeting, can cause dogs to shake or tremble. Training and calm greetings can help manage these behaviors.',\n",
       " 'What are some less common reasons for shivering in dogs?': 'Less common reasons include chronic kidney failure, neurological problems, Addisonian crisis, demyelinating disorders, and full anal sacs.',\n",
       " \"When should you consult your vet about your dog's shivering or trembling?\": \"If you have any concerns or questions about your dog's shivering or trembling, it's recommended to consult your vet for advice and examination.\"}"
      ]
     },
     "execution_count": 12,
     "metadata": {},
     "output_type": "execute_result"
    }
   ],
   "source": [
    "file = open('Trembling.json', 'r')\n",
    "data = json.load(file)\n",
    "data"
   ]
  },
  {
   "cell_type": "code",
   "execution_count": 18,
   "id": "411e7acb-36d5-44ea-8909-0efdb388ab84",
   "metadata": {},
   "outputs": [
    {
     "data": {
      "text/plain": [
       "[{'question': 'What are the potential causes of a dog shivering or trembling?',\n",
       "  'answer': 'Causes may include joy, toxic food ingestion, pain, old age, nausea, poisoning, and more.'},\n",
       " {'question': 'When should you talk to your vet if your dog is shaking or trembling suddenly?',\n",
       "  'answer': \"If your dog shows symptoms like diarrhea, vomiting, limping, or other signs of distress, it's important to consult your vet immediately.\"},\n",
       " {'question': 'What are some common reasons for dogs to shake or tremble?',\n",
       "  'answer': 'Excitement, pain, old age, nausea, poisoning, and seizure disorders are common reasons for dogs to shake or tremble.'},\n",
       " {'question': 'What are the signs of distemper in dogs?',\n",
       "  'answer': \"Signs of distemper include eye and nose discharge, fever, coughing, and tremors. It's most common in unvaccinated puppies and adolescent dogs.\"},\n",
       " {'question': 'How is distemper in dogs treated?',\n",
       "  'answer': 'Treatment involves supportive care and may include antibiotics, airway dilators, physical therapy, and fluids to manage dehydration.'},\n",
       " {'question': 'What is Generalized Tremor Syndrome (GTS) in dogs?',\n",
       "  'answer': 'GTS, also known as white shaker dog syndrome, is characterized by tremors and is more common in small, white breeds. Treatment typically involves corticosteroids.'},\n",
       " {'question': 'What are some signs of nausea in dogs?',\n",
       "  'answer': 'Signs of nausea in dogs include listlessness, lip smacking, excessive salivation, hiding, yawning, vomiting, and shaking.'},\n",
       " {'question': 'How is nausea in dogs treated?',\n",
       "  'answer': 'Treatment for nausea depends on the cause, and it may involve contacting your vet or Animal Poison Control Center in cases of poisoning.'},\n",
       " {'question': 'What can cause tremors in older dogs?',\n",
       "  'answer': \"Old age and pain can cause tremors in older dogs, and it's essential to consult with your vet to rule out any underlying issues.\"},\n",
       " {'question': 'What are some items that can be poisonous to dogs?',\n",
       "  'answer': 'Chocolate, cigarettes (nicotine poisoning), xylitol (found in gum), and snail baits containing metaldehyde are examples of items toxic to dogs.'},\n",
       " {'question': 'What are the symptoms of poisoning in dogs?',\n",
       "  'answer': 'Symptoms include tremors, weakness, disorientation, depression, drooling, vomiting, diarrhea, and seizures. Immediate vet consultation is crucial.'},\n",
       " {'question': 'What neurological disorder in dogs can cause seizures?',\n",
       "  'answer': 'Epilepsy is a neurological disorder in dogs that can cause seizures. Treatment may involve medications like keppra, phenobarbital, or potassium bromide.'},\n",
       " {'question': 'Why do some dogs shake or tremble out of excitement?',\n",
       "  'answer': 'Excitement, especially when greeting, can cause dogs to shake or tremble. Training and calm greetings can help manage these behaviors.'},\n",
       " {'question': 'What are some less common reasons for shivering in dogs?',\n",
       "  'answer': 'Less common reasons include chronic kidney failure, neurological problems, Addisonian crisis, demyelinating disorders, and full anal sacs.'},\n",
       " {'question': \"When should you consult your vet about your dog's shivering or trembling?\",\n",
       "  'answer': \"If you have any concerns or questions about your dog's shivering or trembling, it's recommended to consult your vet for advice and examination.\"}]"
      ]
     },
     "execution_count": 18,
     "metadata": {},
     "output_type": "execute_result"
    }
   ],
   "source": [
    "# put into proper JSON format\n",
    "qa_pairs = []\n",
    "\n",
    "for q, a in data.items():\n",
    "    pair = {'question':q,\n",
    "            'answer':a}\n",
    "    \n",
    "    qa_pairs.append(pair)\n",
    "    \n",
    "qa_pairs"
   ]
  },
  {
   "cell_type": "code",
   "execution_count": null,
   "id": "29328ae0-49db-4d22-8318-7c74e9f207ad",
   "metadata": {},
   "outputs": [],
   "source": []
  }
 ],
 "metadata": {
  "kernelspec": {
   "display_name": "Python 3 (ipykernel)",
   "language": "python",
   "name": "python3"
  },
  "language_info": {
   "codemirror_mode": {
    "name": "ipython",
    "version": 3
   },
   "file_extension": ".py",
   "mimetype": "text/x-python",
   "name": "python",
   "nbconvert_exporter": "python",
   "pygments_lexer": "ipython3",
   "version": "3.10.9"
  }
 },
 "nbformat": 4,
 "nbformat_minor": 5
}
