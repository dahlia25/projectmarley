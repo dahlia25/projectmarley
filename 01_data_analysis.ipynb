{
 "cells": [
  {
   "cell_type": "markdown",
   "id": "3c2a3848-31a1-460a-83b4-cb4eec0a8b49",
   "metadata": {},
   "source": [
    "# Basic Data Analysis\n",
    "This notebook performs basic statistics and analysis on collected text data.\n",
    "* Finds date recency of articles\n",
    "* Word count statistics"
   ]
  },
  {
   "cell_type": "code",
   "execution_count": 14,
   "id": "820e793d-7684-4cf7-82e7-77f0fe46df35",
   "metadata": {},
   "outputs": [],
   "source": [
    "import json\n",
    "import os\n",
    "import re"
   ]
  },
  {
   "cell_type": "code",
   "execution_count": 5,
   "id": "262a62f7-799e-4d88-bd13-d885665cb329",
   "metadata": {},
   "outputs": [
    {
     "data": {
      "text/plain": [
       "['behavior',\n",
       " 'adultdog',\n",
       " 'disease-illness-injury',\n",
       " 'care',\n",
       " 'puppy',\n",
       " 'poisoning',\n",
       " 'seniordog',\n",
       " 'breed',\n",
       " 'symptoms',\n",
       " 'medication',\n",
       " 'nutrition',\n",
       " 'allergies']"
      ]
     },
     "execution_count": 5,
     "metadata": {},
     "output_type": "execute_result"
    }
   ],
   "source": [
    "# list all files in directory\n",
    "folder = 'data-collect/petmd/'\n",
    "files = os.listdir(folder)\n",
    "folders = [file for file in files if '.' not in file]  # only want folder names\n",
    "folders"
   ]
  },
  {
   "cell_type": "code",
   "execution_count": 39,
   "id": "9f6b477b-b86d-4f2f-bb5a-d57fc3c78050",
   "metadata": {},
   "outputs": [],
   "source": [
    "def collect_dates(folder):\n",
    "    '''\n",
    "    @params folder: folder name (str)\n",
    "    returns two lists of dates: published and modified dates\n",
    "    '''\n",
    "    directory = 'data-collect/petmd'\n",
    "    folder_path = f'{directory}/{folder}'\n",
    "    files = os.listdir(folder_path)\n",
    "\n",
    "    published_dates = []\n",
    "    modified_dates = []\n",
    "\n",
    "    for file in files:\n",
    "        file_obj = open(f'{folder_path}/{file}', 'r')\n",
    "        json_data = json.load(file_obj)\n",
    "\n",
    "        date_published = json_data[-1]['datePublished']\n",
    "        date_modified = json_data[-1]['dateModified']\n",
    "\n",
    "        published_dates.append(date_published)\n",
    "        modified_dates.append(date_modified)\n",
    "        \n",
    "    # de-duplicate dates in all lists\n",
    "    unique_published_dates = set(published_dates)\n",
    "    unique_modified_dates = set(modified_dates)\n",
    "    \n",
    "    # sort lists\n",
    "    final_published_dates = sorted(list(unique_published_dates))\n",
    "    final_modified_dates = sorted(list(unique_modified_dates))\n",
    "        \n",
    "    return final_published_dates, final_modified_dates"
   ]
  },
  {
   "cell_type": "code",
   "execution_count": 43,
   "id": "75a7be45-64cb-45a8-a0f5-b4871ea7bdce",
   "metadata": {},
   "outputs": [],
   "source": [
    "# collect dates\n",
    "pb_dates = []  # published dates\n",
    "md_dates = []  # modified dates\n",
    "\n",
    "for folder in folders:\n",
    "    try:\n",
    "        pb_dt, md_dt = collect_dates(folder)\n",
    "\n",
    "        pb_dates = pb_dates + pb_dt\n",
    "        md_dates = md_dates + md_dt\n",
    "    except:\n",
    "        pass\n",
    "    \n",
    "unique_pb_dates = set(pb_dates)\n",
    "unique_md_dates = set(md_dates)\n",
    "\n",
    "final_pb_dates = sorted(list(unique_pb_dates))\n",
    "final_md_dates = sorted(list(unique_md_dates))"
   ]
  },
  {
   "cell_type": "code",
   "execution_count": 52,
   "id": "3d8b7a73-860a-4e29-9b71-674140744f45",
   "metadata": {
    "tags": []
   },
   "outputs": [
    {
     "name": "stdout",
     "output_type": "stream",
     "text": [
      "Earliest published year is: 2008\n"
     ]
    }
   ],
   "source": [
    "# earliest published date: Jul 2008\n",
    "# latest published date: Nov 2023\n",
    "\n",
    "years = [dt[-4:] for dt in final_pb_dates]\n",
    "print(f'Earliest published year is: {min(years)}')  # which is 2008\n",
    "\n",
    "# final_pb_dates"
   ]
  },
  {
   "cell_type": "code",
   "execution_count": 55,
   "id": "878444af-aae2-4823-a535-558c3b0efece",
   "metadata": {},
   "outputs": [
    {
     "name": "stdout",
     "output_type": "stream",
     "text": [
      "Earliest published year is: 2015\n"
     ]
    }
   ],
   "source": [
    "# earliest modified date: Apr 2015\n",
    "# latest modified date: Nov 2023\n",
    "\n",
    "years = [dt[-4:] for dt in final_md_dates]\n",
    "print(f'Earliest published year is: {min(years)}')  # which is 2015\n",
    "\n",
    "# final_md_dates"
   ]
  },
  {
   "cell_type": "code",
   "execution_count": null,
   "id": "affcb9d2-5541-4662-84fc-2e1930f2cdc4",
   "metadata": {},
   "outputs": [],
   "source": []
  }
 ],
 "metadata": {
  "kernelspec": {
   "display_name": "Python 3 (ipykernel)",
   "language": "python",
   "name": "python3"
  },
  "language_info": {
   "codemirror_mode": {
    "name": "ipython",
    "version": 3
   },
   "file_extension": ".py",
   "mimetype": "text/x-python",
   "name": "python",
   "nbconvert_exporter": "python",
   "pygments_lexer": "ipython3",
   "version": "3.10.9"
  }
 },
 "nbformat": 4,
 "nbformat_minor": 5
}
