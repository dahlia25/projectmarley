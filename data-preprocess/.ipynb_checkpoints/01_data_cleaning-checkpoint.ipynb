{
 "cells": [
  {
   "cell_type": "markdown",
   "id": "857dbda9-186e-4350-b472-056c5de1113a",
   "metadata": {
    "tags": []
   },
   "source": [
    "# Data Cleaning\n",
    "This notebook contains code to clean data by performing the following:\n",
    "* Clean up random code for special characters\n",
    "* Remove irrelevant and unwanted content in corpus"
   ]
  },
  {
   "cell_type": "code",
   "execution_count": 1,
   "id": "1fbe3997-ec6d-4447-a38e-92cd498d5c33",
   "metadata": {},
   "outputs": [],
   "source": [
    "import json\n",
    "import os\n",
    "import re\n",
    "import unicodedata  # to convert unicode to proper English text"
   ]
  },
  {
   "cell_type": "markdown",
   "id": "e59f8d5b-cab9-4959-b28c-7ffb5323d8af",
   "metadata": {},
   "source": [
    "### Code testing on data cleaning automation"
   ]
  },
  {
   "cell_type": "markdown",
   "id": "4330d953-5fb2-476b-b459-89419363a0e1",
   "metadata": {},
   "source": [
    "**Load raw data**"
   ]
  },
  {
   "cell_type": "code",
   "execution_count": 4,
   "id": "36e36d51-842c-49ed-aff1-19555386b3c5",
   "metadata": {
    "scrolled": true,
    "tags": []
   },
   "outputs": [
    {
     "data": {
      "text/plain": [
       "['nutrition_how-find-your-dogs-body-condition-score.json',\n",
       " 'general-health_understanding-how-probiotics-for-dogs-work.json',\n",
       " 'general-health_best-hunting-dogs.json',\n",
       " 'general-health_summer-dog-walking-tips.json',\n",
       " 'general-health_signs-dog-dying.json',\n",
       " 'symptom_runny-nose-in-dogs.json',\n",
       " 'digestive_food-allergies-dogs.json',\n",
       " 'dog_sago-palm-poisoning-dogs.json',\n",
       " 'behavior_why-do-dogs-howl.json',\n",
       " 'general-health_side-effects-pet-medications.json',\n",
       " 'behavior_why-do-dogs-chase-their-tails.json',\n",
       " 'parasites_how-to-remove-a-tick-from-dog-cat.json',\n",
       " 'general-health_CBD-for-dogs-what-you-need-to-know.json',\n",
       " 'general-health_fish-oil-dogs.json',\n",
       " 'symptoms_why-my-dog-peeing-lot.json',\n",
       " 'training_balanced-dog-training-vs-positive-reinforcement.json',\n",
       " 'nutrition_what-to-feed-a-dog-with-diarrhea.json',\n",
       " 'general-health_imodium-dogs-it-good-idea.json',\n",
       " 'systemic_pollen-allergies-dogs.json',\n",
       " 'general-health_dog-in-heat.json',\n",
       " 'general-health_dog-hospice-and-palliative-care.json',\n",
       " 'general-health_mdr1-gene-in-dogs.json',\n",
       " 'training_ins-and-outs-potty-training-older-dogs-0.json',\n",
       " 'monitoring-and-managing-glucose-levels-dogs-and-cats.json',\n",
       " 'behavior_resource-guarding-dogs.json',\n",
       " 'general-health_flyball-for-dogs-an-ultimate-guide-for-your-athletic-pooch.json',\n",
       " 'neurological_epilepsy-dogs.json',\n",
       " 'neurological_neurological-disorders-dogs.json',\n",
       " 'symptoms_why-my-dog-throwing-blood.json',\n",
       " 'respiratory_pleural-effusion-dogs.json',\n",
       " 'general-health_ear-cropping-dogs.json',\n",
       " 'reproductive_8-common-urinary-problems-dogs.json',\n",
       " 'dog_what-know-adopting-dog-lyme-disease.json',\n",
       " 'cardiovascular_imha-immune-mediated-hemolytic-anemia-dogs.json',\n",
       " 'behavior_dogs-neutering-affect-behavior.json',\n",
       " 'general-health_are-essential-oils-safe-for-dogs.json',\n",
       " 'general-health_rainy-day-dangers-dogs.json',\n",
       " 'parasites_can-i-reapply-flea-treatment-early.json',\n",
       " 'general-health_is-non-anesthetic-teeth-cleaning-safe.json',\n",
       " 'general-health_dogs-that-love-to-swim.json',\n",
       " 'general-health_home-remedies-for-dogs.json',\n",
       " 'nutrition_are-you-feeding-your-dog-right-amount.json',\n",
       " 'general-health_top-signs-your-dog-is-not-getting-enough-exercise.json',\n",
       " 'general-health_how-to-potty-train-your-dog.json',\n",
       " 'general-health_helping-dog-arthritis-in-cold-weather.json',\n",
       " 'symptoms_nausea-dogs.json',\n",
       " 'digestive_perianal-fistula-dogs.json',\n",
       " 'nutrition_what-feed-dog-kidney-disease.json',\n",
       " 'neurological_syncope-fainting-dogs.json',\n",
       " 'general-health_snoring-in-dogs.json',\n",
       " 'nutrition_evr_dg_whats_in_a_balanced_dog_food.json',\n",
       " 'general-health_safety-tips-for-hunting-with-dog.json',\n",
       " 'general-health_crate-sizing-for-dogs.json',\n",
       " 'cardiovascular_c_dg_von_willebrand_disease.json',\n",
       " 'symptoms_dry-flaky-skin-dogs.json',\n",
       " 'general-health_how-to-find-a-lost-dog.json',\n",
       " 'general-health_small-dog-breeds.json',\n",
       " 'general-health_does-your-dog-have-healthy-gums.json',\n",
       " 'digestive_salmonella-dogs.json',\n",
       " 'general-health_dog-sleeping-positions-and-what-they-mean.json',\n",
       " 'behavior_how-to-stop-dog-digging.json',\n",
       " 'general-health_how-to-calm-your-dog-naturally.json',\n",
       " 'urinary_fanconi-syndrome-dogs.json',\n",
       " 'behavior_how-to-read-dog-body-language.json',\n",
       " 'cardiovascular_clotting-disorders-platelets-dogs.json',\n",
       " 'general-health_do-dogs-know-their-name.json',\n",
       " 'general-health_most-popular-dog-breeds.json',\n",
       " 'general-health_how-to-introduce-cat-to-dog.json',\n",
       " 'dog_ways-veterinarians-diagnose-lumps-and-bumps-dogs.json',\n",
       " 'general-health_smartest-dog-breeds.json',\n",
       " 'reproductive_dog-pregnancy-birth-and-puppy-care-complete-guide.json',\n",
       " 'general-health_healthiest-dog-breeds.json',\n",
       " 'cancer_lung-cancer-dogs.json',\n",
       " 'behavior_why-do-dogs-eat-poop.json',\n",
       " 'behavior_leash-reactivity-in-dogs.json',\n",
       " 'skin_skin-tags-dogs.json',\n",
       " 'care_can-i-give-my-dog-benadryl-and-if-so-how-much.json',\n",
       " 'nutrition_can-dogs-eat-cashews.json',\n",
       " 'general-health_do-dogs-sweat.json',\n",
       " 'general-health_how-to-leash-train-dog.json',\n",
       " 'general-health_reasons-why-your-dog-throwing-bile.json',\n",
       " 'general-health_fourth-of-july-pet-safety-tips.json',\n",
       " 'care_how-dog-ages-and-what-you-can-expect-each-life-stage.json',\n",
       " 'care_dog-vaccinations-for-every-lifestage.json',\n",
       " 'general-health_best-hiking-gear-dogs.json',\n",
       " 'reproductive_recessed-vulva-dogs.json',\n",
       " 'urinary_chronic-kidney-disease-ckd-dogs.json',\n",
       " 'general-health_french-bulldog-vs-boston-terrier.json',\n",
       " 'general-health_melatonin-for-dogs.json',\n",
       " 'general-health_natural-flea-repellent-your-pets-and-home.json',\n",
       " 'care_what-age-do-dogs-stop-growing.json',\n",
       " 'general-health_do-dogs-know-when-they-are-dying.json',\n",
       " 'respiratory_pulmonary-contusion-dogs.json',\n",
       " 'behavior_fear-aggression-dogs.json',\n",
       " 'nutrition_what-feed-dogs-after-theyve-vomited.json',\n",
       " 'urinary_urine-crystals-dogs.json',\n",
       " 'behavior_how-to-train-a-dog-with-positive-reinforcement.json',\n",
       " 'symptom_rhinitis-sinus-infections-in-dogs.json',\n",
       " 'nutrition_how-to-switch-your-dogs-food.json',\n",
       " 'neurological_syringomyelia-sm-and-chiari-malformation-cm-dogs.json',\n",
       " 'poisoning_making-dogs-throw-up.json',\n",
       " 'general-health_ways-to-keep-dog-mentally-stimulated.json',\n",
       " 'nutrition_when-should-you-switch-puppy-adult-dog-food.json',\n",
       " 'urinary_kidney-infections-dogs.json',\n",
       " 'cancer_cancer-dogs-symptoms-types-and-treatment.json',\n",
       " 'cardiovascular_dic-disseminated-intravascular-coagulation-dogs.json',\n",
       " 'general-health_can-you-give-dog-pepto-bismol.json',\n",
       " 'cancer_soft-tissue-sarcoma-dogs.json',\n",
       " 'dog_what-do-if-snake-bites-your-dog.json',\n",
       " 'general-health_how-smart-are-dogs.json',\n",
       " 'general-health_dog-stung-by-bee.json',\n",
       " 'behavior_why-do-dogs-lick-you.json',\n",
       " 'traumatic_hemoabdomen-dogs-internal-abdominal-bleeding.json',\n",
       " 'nutrition_are-grain-free-diets-bad-for-dogs.json',\n",
       " 'nutrition_what-to-feed-dog-with-bladder-stones.json',\n",
       " 'general-health_how-to-take-dogs-temperature.json',\n",
       " 'general-health_dog-tear-stains.json',\n",
       " 'dog_acupuncture-dogs.json',\n",
       " 'immune_lupoid-onychodystrophy-dogs.json',\n",
       " 'parasites_can-you-use-dawn-dish-soap-kill-fleas-pets.json',\n",
       " 'care_how-make-your-dogs-crate-feel-home.json',\n",
       " 'nutrition_how-to-choose-the-best-dog-food.json',\n",
       " 'general-health_cosequin-vs-dasuquin.json',\n",
       " 'poisoning_cleaning-products-that-harm-pets.json',\n",
       " 'cardiovascular_enlarged-heart-dilated-cardiomyopathy-dogs.json',\n",
       " 'cardiovascular_pulmonic-stenosis-dogs.json',\n",
       " 'nutrition_can-dogs-eat-honey.json',\n",
       " 'general-health_hot-spots-dogs.json',\n",
       " 'cancer_leukemia-dogs.json',\n",
       " 'neurological_fce-fibrocartilaginous-embolism-dogs.json',\n",
       " 'general-health_french-bulldog-health-issues.json',\n",
       " 'cardiovascular_pulmonary-hypertension-dogs.json',\n",
       " 'general-health_how-to-handle-fleas-on-dogs.json',\n",
       " 'general-health_best-dog-dna-tests.json',\n",
       " 'cardiovascular_c_dg_heart_attack.json',\n",
       " 'behavior_aggression-in-dogs.json',\n",
       " 'cancer_insulinoma-dogs.json',\n",
       " 'neurological_narcolepsy-dogs.json',\n",
       " 'cardiovascular_mitral-valve-disease-dogs.json',\n",
       " 'skin_pododermatitis-dogs.json',\n",
       " 'general-health_probiotics-dogs-what-you-need-know.json',\n",
       " 'behavior_how-to-stop-dogs-from-chewing-and-scratching-everything.json',\n",
       " 'cardiovascular_ascites-dogs.json',\n",
       " 'general-health_unlocking-benefits-zesty-paws-healthy-aging-supplement.json',\n",
       " 'behavior_why-do-dogs-eat-grass.json',\n",
       " 'care_create-your-home-kit-neuter-and-spay-recovery-dogs.json',\n",
       " 'reproductive_testicular-tumors-dogs.json',\n",
       " 'care_5-things-you-need-know-about-dog-dewclaws.json',\n",
       " 'behavior_why-do-dogs-wag-their-tails.json',\n",
       " 'general-health_growth-dogs-what-expect.json']"
      ]
     },
     "execution_count": 4,
     "metadata": {},
     "output_type": "execute_result"
    }
   ],
   "source": [
    "# list all files in directory\n",
    "folder = '/Users/dahliama/Desktop/SJSU/data298/github/projectmarley/data-collect/petmd/adultdog'\n",
    "filenames = os.listdir(folder)\n",
    "filenames"
   ]
  },
  {
   "cell_type": "code",
   "execution_count": 5,
   "id": "fca36071-ceaf-4e25-aa16-237ade818dda",
   "metadata": {},
   "outputs": [
    {
     "data": {
      "text/plain": [
       "150"
      ]
     },
     "execution_count": 5,
     "metadata": {},
     "output_type": "execute_result"
    }
   ],
   "source": [
    "len(filenames)"
   ]
  },
  {
   "cell_type": "code",
   "execution_count": 33,
   "id": "66eacac6-49cb-48c4-9ad0-8a4b5dda6f29",
   "metadata": {
    "scrolled": true,
    "tags": []
   },
   "outputs": [
    {
     "name": "stdout",
     "output_type": "stream",
     "text": [
      "File: general-health_understanding-how-probiotics-for-dogs-work.json\n",
      "\n"
     ]
    },
    {
     "data": {
      "text/plain": [
       "[{'@context': 'https://schema.org',\n",
       "  '@type': 'BreadcrumbList',\n",
       "  'itemListElement': [{'@type': 'ListItem',\n",
       "    'position': 0,\n",
       "    'name': 'Home',\n",
       "    'item': 'https://www.petmd.com/'},\n",
       "   {'@type': 'ListItem',\n",
       "    'position': 1,\n",
       "    'name': 'Care & Healthy Living',\n",
       "    'item': 'https://www.petmd.com/dog/care'}]},\n",
       " {'@context': 'https://schema.org',\n",
       "  '@type': 'Article',\n",
       "  'headline': 'Understanding How Probiotics for Dogs Work',\n",
       "  'inLanguage': 'en-US',\n",
       "  'isFamilyFriendly': 'True',\n",
       "  'isAccessibleForFree': 'True',\n",
       "  'articleSection': '',\n",
       "  'thumbnailUrl': 'https://image.petmd.com/files/styles/863x625/public/2023-04/dog-probiotics.jpg',\n",
       "  'image': {'@type': 'ImageObject',\n",
       "   'url': 'https://image.petmd.com/files/styles/863x625/public/2023-04/dog-probiotics.jpg'},\n",
       "  'author': {'@type': 'Person',\n",
       "   'name': 'Jennifer Coates, DVM',\n",
       "   'url': 'https://www.petmd.com/author/dr-jennifer-coates'},\n",
       "  'keywords': 'Dog, Adult',\n",
       "  'publisher': {'@type': 'Organization',\n",
       "   'name': 'PetMD',\n",
       "   'logo': {'@type': 'ImageObject',\n",
       "    'url': 'https://www.petmd.com/images/petmd_logo.png'},\n",
       "   'url': 'https://www.petmd.com'},\n",
       "  'mainEntityOfPage': {'@type': 'WebPage',\n",
       "   '@id': 'https://www.petmd.com/dog/general-health/understanding-how-probiotics-for-dogs-work'},\n",
       "  'datePublished': 'April 13, 2023',\n",
       "  'dateModified': 'April 13, 2023',\n",
       "  'description': 'What are probiotics and prebiotics, anyway? Here&#039;s what to know about probiotics for dogs and prebiotics for dogs, and how the bacteria benefits your pup.',\n",
       "  'articleBody': 'Here’s a fun fact: A mammal’s intestinal tract contains approximately 10 times more microbes than the number of cells in the rest of their body. This is likely true for dogs, cats, and even people. Is it any wonder why the intestinal microbiome’s role in our health is the focus of such intense research? Nutritional supplements that contain probiotics and prebiotics are popular ways to support a healthy microbiome. Let’s take a look at some common pre- and probiotics and what they do inside a dog’s body. Probiotics for Dogs Probiotics are nutritional supplements containing beneficial living microorganisms that are normally found in the gastrointestinal tract. While we don’t know exactly what each microorganism does, most probiotics for dogs are designed primarily to support digestive health. But they can have other effects as well. Lactobacillus Lactobacillus bacteria are included in many probiotics meant to support intestinal health. They may help restore the intestinal microbiome after imbalances that have occurred due to dietary changes, antibiotic use, or stressful events like boarding or traveling. This can improve a dog’s appetite and get rid of diarrhea. Because so much of a dog’s immune system is located in the intestinal tract, Lactobacillus bacteria are also given to support a healthy overall immune response. Lactobacillus species to look for include: Lactobacillus acidophilus Lactobacillus plantarum Lactobacillus casei Lactobacillus brevis Lactobacillus bulgaricus Enterococcus and Bacillus In the gut, Enterococcus and Bacillus bacteria are thought to have many of the same effects as Lactobacillus, including supporting a dog’s intestinal health and overall immune function and helping to resolve or prevent diarrhea. Species that are commonly included in probiotics include: Enterococcus faecium Enterococcus thermophilus Bacillus coagulans Bifidobacterium Certain species of Bifidobacterium bacteria are also included in the many probiotic supplements that are designed to support a healthy intestinal tract and immune system. These include: Bifidobacterium bifidum Bifidobacterium animalis But another Bifidobacterium has been shown to help dogs stay calm in situations that normally trigger anxious behaviors. Calming probiotics contain a special type of Bifidobacterium longum that goes by the proprietary name BL999. These are not the only uses of probiotics in dogs. Studies show that changing the intestinal microbiome “may impact not only GI disease, but also allergies, oral health, weight management, diabetes, and kidney disease.” Prebiotics for Dogs Another way to alter a dog’s intestinal microbiome is to preferentially “feed” the beneficial microorganisms that are in the gut (or that we’re adding with probiotic supplements). If we create a good environment for them, these microorganisms should be able to reproduce and increase their own numbers. Prebiotics are nutrients that promote the growth of beneficial gut microbes. They are a type of fiber that gut bacteria can use as an energy source. Look for any of the following on a nutritional supplement’s label to determine if it includes prebiotics: Fructooligosaccharides Gum arabic Arabinogalactan Inulin Beet pulp Chicory Talk to your veterinarian if you think your dog could benefit from probiotics or prebiotics. They can point you toward the products that are most likely to help based on your dog’s particular needs.\\xa0 Featured Image: iStock/Kosamtu'}]"
      ]
     },
     "execution_count": 33,
     "metadata": {},
     "output_type": "execute_result"
    }
   ],
   "source": [
    "filename = filenames[1]\n",
    "\n",
    "file = f'{folder}/{filename}'\n",
    "file_obj = open(file, 'r')\n",
    "json_data = json.load(file_obj)\n",
    "\n",
    "print(f'File: {filename}\\n')\n",
    "json_data"
   ]
  },
  {
   "cell_type": "code",
   "execution_count": 34,
   "id": "6b2053ca-6228-4691-9526-8b08a34b1ffd",
   "metadata": {},
   "outputs": [],
   "source": [
    "# extract raw article body\n",
    "raw_text = json_data[-1]['articleBody']"
   ]
  },
  {
   "cell_type": "markdown",
   "id": "82ad67b2-4437-49b8-8cdf-8df6d72129f9",
   "metadata": {},
   "source": [
    "**Convert unicode raw text to proper English**"
   ]
  },
  {
   "cell_type": "code",
   "execution_count": 35,
   "id": "b11e1f3a-59e7-4979-a4ba-1b027d1ede92",
   "metadata": {
    "scrolled": true,
    "tags": []
   },
   "outputs": [
    {
     "data": {
      "text/plain": [
       "'Here’s a fun fact: A mammal’s intestinal tract contains approximately 10 times more microbes than the number of cells in the rest of their body. This is likely true for dogs, cats, and even people. Is it any wonder why the intestinal microbiome’s role in our health is the focus of such intense research? Nutritional supplements that contain probiotics and prebiotics are popular ways to support a healthy microbiome. Let’s take a look at some common pre- and probiotics and what they do inside a dog’s body. Probiotics for Dogs Probiotics are nutritional supplements containing beneficial living microorganisms that are normally found in the gastrointestinal tract. While we don’t know exactly what each microorganism does, most probiotics for dogs are designed primarily to support digestive health. But they can have other effects as well. Lactobacillus Lactobacillus bacteria are included in many probiotics meant to support intestinal health. They may help restore the intestinal microbiome after imbalances that have occurred due to dietary changes, antibiotic use, or stressful events like boarding or traveling. This can improve a dog’s appetite and get rid of diarrhea. Because so much of a dog’s immune system is located in the intestinal tract, Lactobacillus bacteria are also given to support a healthy overall immune response. Lactobacillus species to look for include: Lactobacillus acidophilus Lactobacillus plantarum Lactobacillus casei Lactobacillus brevis Lactobacillus bulgaricus Enterococcus and Bacillus In the gut, Enterococcus and Bacillus bacteria are thought to have many of the same effects as Lactobacillus, including supporting a dog’s intestinal health and overall immune function and helping to resolve or prevent diarrhea. Species that are commonly included in probiotics include: Enterococcus faecium Enterococcus thermophilus Bacillus coagulans Bifidobacterium Certain species of Bifidobacterium bacteria are also included in the many probiotic supplements that are designed to support a healthy intestinal tract and immune system. These include: Bifidobacterium bifidum Bifidobacterium animalis But another Bifidobacterium has been shown to help dogs stay calm in situations that normally trigger anxious behaviors. Calming probiotics contain a special type of Bifidobacterium longum that goes by the proprietary name BL999. These are not the only uses of probiotics in dogs. Studies show that changing the intestinal microbiome “may impact not only GI disease, but also allergies, oral health, weight management, diabetes, and kidney disease.” Prebiotics for Dogs Another way to alter a dog’s intestinal microbiome is to preferentially “feed” the beneficial microorganisms that are in the gut (or that we’re adding with probiotic supplements). If we create a good environment for them, these microorganisms should be able to reproduce and increase their own numbers. Prebiotics are nutrients that promote the growth of beneficial gut microbes. They are a type of fiber that gut bacteria can use as an energy source. Look for any of the following on a nutritional supplement’s label to determine if it includes prebiotics: Fructooligosaccharides Gum arabic Arabinogalactan Inulin Beet pulp Chicory Talk to your veterinarian if you think your dog could benefit from probiotics or prebiotics. They can point you toward the products that are most likely to help based on your dog’s particular needs.  Featured Image: iStock/Kosamtu'"
      ]
     },
     "execution_count": 35,
     "metadata": {},
     "output_type": "execute_result"
    }
   ],
   "source": [
    "# clean up and convert special encodings to regular English (i.e. '\\xa0')\n",
    "text = unicodedata.normalize(\"NFKD\", raw_text).replace('&#039;',\"'\").replace('&quot;','')\n",
    "text"
   ]
  },
  {
   "cell_type": "markdown",
   "id": "8f4893e0-2132-445b-ba98-56eb6eb7414c",
   "metadata": {},
   "source": [
    "**Remove unwanted and irrelevant content in text** <br>\n",
    "Ref: https://stackoverflow.com/questions/4576077/how-can-i-split-a-text-into-sentences"
   ]
  },
  {
   "cell_type": "code",
   "execution_count": 36,
   "id": "cef3f3ed-987b-4f33-a85d-b12d32522b62",
   "metadata": {},
   "outputs": [],
   "source": [
    "#------------------------------------------------------------------------------------#\n",
    "# Define function to split sentences in large text\n",
    "#------------------------------------------------------------------------------------#\n",
    "\n",
    "# -*- coding: utf-8 -*-\n",
    "alphabets= \"([A-Za-z])\"\n",
    "prefixes = \"(Mr|St|Mrs|Ms|Dr)[.]\"\n",
    "suffixes = \"(Inc|Ltd|Jr|Sr|Co)\"\n",
    "starters = \"(Mr|Mrs|Ms|Dr|Prof|Capt|Cpt|Lt|He\\s|She\\s|It\\s|They\\s|Their\\s|Our\\s|We\\s|But\\s|However\\s|That\\s|This\\s|Wherever)\"\n",
    "acronyms = \"([A-Z][.][A-Z][.](?:[A-Z][.])?)\"\n",
    "websites = \"[.](com|net|org|io|gov|edu|me)\"\n",
    "digits = \"([0-9])\"\n",
    "multiple_dots = r'\\.{2,}'\n",
    "\n",
    "def split_into_sentences(text: str) -> list[str]:\n",
    "    \"\"\"\n",
    "    Split the text into sentences.\n",
    "\n",
    "    If the text contains substrings \"<prd>\" or \"<stop>\", they would lead \n",
    "    to incorrect splitting because they are used as markers for splitting.\n",
    "\n",
    "    :param text: text to be split into sentences\n",
    "    :type text: str\n",
    "\n",
    "    :return: list of sentences\n",
    "    :rtype: list[str]\n",
    "    \"\"\"\n",
    "    text = \" \" + text + \"  \"\n",
    "    text = text.replace(\"\\n\",\" \")\n",
    "    text = re.sub(prefixes,\"\\\\1<prd>\",text)\n",
    "    text = re.sub(websites,\"<prd>\\\\1\",text)\n",
    "    text = re.sub(digits + \"[.]\" + digits,\"\\\\1<prd>\\\\2\",text)\n",
    "    text = re.sub(multiple_dots, lambda match: \"<prd>\" * len(match.group(0)) + \"<stop>\", text)\n",
    "    if \"Ph.D\" in text: text = text.replace(\"Ph.D.\",\"Ph<prd>D<prd>\")\n",
    "    text = re.sub(\"\\s\" + alphabets + \"[.] \",\" \\\\1<prd> \",text)\n",
    "    text = re.sub(acronyms+\" \"+starters,\"\\\\1<stop> \\\\2\",text)\n",
    "    text = re.sub(alphabets + \"[.]\" + alphabets + \"[.]\" + alphabets + \"[.]\",\"\\\\1<prd>\\\\2<prd>\\\\3<prd>\",text)\n",
    "    text = re.sub(alphabets + \"[.]\" + alphabets + \"[.]\",\"\\\\1<prd>\\\\2<prd>\",text)\n",
    "    text = re.sub(\" \"+suffixes+\"[.] \"+starters,\" \\\\1<stop> \\\\2\",text)\n",
    "    text = re.sub(\" \"+suffixes+\"[.]\",\" \\\\1<prd>\",text)\n",
    "    text = re.sub(\" \" + alphabets + \"[.]\",\" \\\\1<prd>\",text)\n",
    "    if \"”\" in text: text = text.replace(\".”\",\"”.\")\n",
    "    if \"\\\"\" in text: text = text.replace(\".\\\"\",\"\\\".\")\n",
    "    if \"!\" in text: text = text.replace(\"!\\\"\",\"\\\"!\")\n",
    "    if \"?\" in text: text = text.replace(\"?\\\"\",\"\\\"?\")\n",
    "    text = text.replace(\".\",\".<stop>\")\n",
    "    text = text.replace(\"?\",\"?<stop>\")\n",
    "    text = text.replace(\"!\",\"!<stop>\")\n",
    "    text = text.replace(\"<prd>\",\".\")\n",
    "    sentences = text.split(\"<stop>\")\n",
    "    sentences = [s.strip() for s in sentences]\n",
    "    if sentences and not sentences[-1]: sentences = sentences[:-1]\n",
    "    return sentences"
   ]
  },
  {
   "cell_type": "code",
   "execution_count": 37,
   "id": "b60ca0d6-92f0-44bf-ad27-b1a00d811528",
   "metadata": {
    "scrolled": true,
    "tags": []
   },
   "outputs": [
    {
     "data": {
      "text/plain": [
       "['Here’s a fun fact: A mammal’s intestinal tract contains approximately 10 times more microbes than the number of cells in the rest of their body.',\n",
       " 'This is likely true for dogs, cats, and even people.',\n",
       " 'Is it any wonder why the intestinal microbiome’s role in our health is the focus of such intense research?',\n",
       " 'Nutritional supplements that contain probiotics and prebiotics are popular ways to support a healthy microbiome.',\n",
       " 'Let’s take a look at some common pre- and probiotics and what they do inside a dog’s body.',\n",
       " 'Probiotics for Dogs Probiotics are nutritional supplements containing beneficial living microorganisms that are normally found in the gastrointestinal tract.',\n",
       " 'While we don’t know exactly what each microorganism does, most probiotics for dogs are designed primarily to support digestive health.',\n",
       " 'But they can have other effects as well.',\n",
       " 'Lactobacillus Lactobacillus bacteria are included in many probiotics meant to support intestinal health.',\n",
       " 'They may help restore the intestinal microbiome after imbalances that have occurred due to dietary changes, antibiotic use, or stressful events like boarding or traveling.',\n",
       " 'This can improve a dog’s appetite and get rid of diarrhea.',\n",
       " 'Because so much of a dog’s immune system is located in the intestinal tract, Lactobacillus bacteria are also given to support a healthy overall immune response.',\n",
       " 'Lactobacillus species to look for include: Lactobacillus acidophilus Lactobacillus plantarum Lactobacillus casei Lactobacillus brevis Lactobacillus bulgaricus Enterococcus and Bacillus In the gut, Enterococcus and Bacillus bacteria are thought to have many of the same effects as Lactobacillus, including supporting a dog’s intestinal health and overall immune function and helping to resolve or prevent diarrhea.',\n",
       " 'Species that are commonly included in probiotics include: Enterococcus faecium Enterococcus thermophilus Bacillus coagulans Bifidobacterium Certain species of Bifidobacterium bacteria are also included in the many probiotic supplements that are designed to support a healthy intestinal tract and immune system.',\n",
       " 'These include: Bifidobacterium bifidum Bifidobacterium animalis But another Bifidobacterium has been shown to help dogs stay calm in situations that normally trigger anxious behaviors.',\n",
       " 'Calming probiotics contain a special type of Bifidobacterium longum that goes by the proprietary name BL999.',\n",
       " 'These are not the only uses of probiotics in dogs.',\n",
       " 'Studies show that changing the intestinal microbiome “may impact not only GI disease, but also allergies, oral health, weight management, diabetes, and kidney disease”.',\n",
       " 'Prebiotics for Dogs Another way to alter a dog’s intestinal microbiome is to preferentially “feed” the beneficial microorganisms that are in the gut (or that we’re adding with probiotic supplements).',\n",
       " 'If we create a good environment for them, these microorganisms should be able to reproduce and increase their own numbers.',\n",
       " 'Prebiotics are nutrients that promote the growth of beneficial gut microbes.',\n",
       " 'They are a type of fiber that gut bacteria can use as an energy source.',\n",
       " 'Look for any of the following on a nutritional supplement’s label to determine if it includes prebiotics: Fructooligosaccharides Gum arabic Arabinogalactan Inulin Beet pulp Chicory Talk to your veterinarian if you think your dog could benefit from probiotics or prebiotics.',\n",
       " 'They can point you toward the products that are most likely to help based on your dog’s particular needs.',\n",
       " 'Featured Image: iStock/Kosamtu']"
      ]
     },
     "execution_count": 37,
     "metadata": {},
     "output_type": "execute_result"
    }
   ],
   "source": [
    "# split text into sentences\n",
    "text_splits = split_into_sentences(text)\n",
    "text_splits"
   ]
  },
  {
   "cell_type": "code",
   "execution_count": 29,
   "id": "1b043422-650e-444a-9f2f-29e429889ec3",
   "metadata": {},
   "outputs": [],
   "source": [
    "# define a list of words to remove (in lowercase)\n",
    "remove_words = ['petmd'\n",
    "                ,'chewy'\n",
    "                ,'featured image' \n",
    "                ,'image credit'\n",
    "                ,'istock' \n",
    "                ,'https://' \n",
    "                ,'.com'\n",
    "                ,'.gov'\n",
    "                ,'.edu'\n",
    "                ,'ncbi.'\n",
    "                ,'nlm.' \n",
    "                ,'citations '\n",
    "                ,'., et al.'\n",
    "                ,', vol.'\n",
    "                ,', no.'\n",
    "                ,', pp.'\n",
    "                ,'by: '\n",
    "               ]"
   ]
  },
  {
   "cell_type": "code",
   "execution_count": 31,
   "id": "6c1f4f53-c607-4285-a04b-8ba9c900374d",
   "metadata": {
    "scrolled": true,
    "tags": []
   },
   "outputs": [
    {
     "name": "stdout",
     "output_type": "stream",
     "text": [
      "Old text contain 58 sentences.\n",
      "New text contain 56 sentences.\n",
      "\n",
      "Below is the new text body: \n",
      " What Is a Body Condition Score? Stepping on a scale is an easy way for people to monitor their weight, but routinely weighing your dog can be a hassle. What if there was a simpler method for determining if your dog is too skinny, too overweight, or just right? There is... it’s called a body condition score (BCS). The only tools you need to determine your dog’s body condition score are your hands and your eyes. A 1997 study first described a body condition score system for dogs that is the basis for the ones that are in common use today. How Veterinarians Use Body Condition Scores for Dogs Veterinarians check their patients’ body condition scores almost every time they see them. Monitoring for changes in both a dog’s weight and body condition score provides vets with more information than either measure does by itself. Sometimes a dog’s weight will change for perfectly normal reasons. For example, puppies quickly put on weight as they grow. How can you know if a five-pound weight gain over three weeks is appropriate for a puppy? You check their body condition score. On the other hand, a dog’s weight might be stable even when they’re actually losing body fat or muscle mass. This could happen if a dog has a disease such as congestive heart failure, which causes fluid to accumulate in the body. By looking at body condition score and weight, veterinarians can get the clearest picture possible of a dog’s physical status. How To Find Your Dog’s Body Condition Score Pet parents can also use body condition scoring as an easy way to monitor for changes in their dog’s weight. It won’t pick up small amounts of weight gain or loss, but trends do become obvious over time. Assessing a dog’s body condition score can also help you determine how much food you should offer—on the low end of the range recommended on a dog food’s label if they need to lose a little weight and on the high end if they need to gain. Finding your dog’s body condition score might seem intimidating at first, but with a little practice, it will become easy: First, look at your dog from above. Does their waist (the area between their rib cage and hips) curve in, go straight across, or curve out? Next, look at your dog from the side. Does their abdomen (tummy) tuck up, go straight across, or droop down? Are their ribs, spine, and hips easily visible or covered with a little (or a lot) of fat? Then, run your hands across your dog’s ribs, spine, and hips. Are bones easily felt right under the skin or are they covered by fat? Use your own hand as a guide. Make a fist and run a finger over your knuckles. This is what too little fat feels like. Lay your hand flat and feel your knuckles again. This is what a good covering of fat feels like. Flip your hand over and feel your knuckles through your palm. This is what a dog’s ribs feel like with too much fat covering them. Finally, assign your dog a body condition score using the following charts: For Small Dogs:  For Medium Dogs:  For Large Dogs:  For Extra Large Dogs:  What Is a Good Body Condition Score for Dogs? There are several different body condition scoring systems available for dogs. Some use a 5-point scale, but 9-point scales are the most popular. A good body condition score for dogs on a 9-point scale is a 4 or a 5. In other words, dogs should be right in the middle or just slightly on the thin side of whatever body condition scoring system you use. Several studies have shown that dogs who are at a normal weight, or even a little skinnier than normal, live longer and healthier lives than dogs who are overweight or obese. What Is a Bad Body Condition Score for Dogs? Your dog is too skinny if their body condition score is less than a 4 out of 9. They will be considered emaciated if they have a score of 1 out of 9. BCS scores of 2/9 and 3/9 are considered very thin and underweight, respectively. More commonly, dogs have body condition scores that are greater than 5/9. The Association of Pet Obesity Prevention estimates that in 2022, 59% of dogs in the United States were overweight. Here’s what body condition scores over 5 mean, according to the American Animal Hospital Association’s Weight Management Guidelines. Body Condition Score Percent Overweight 6/9 10% 7/9 20% 8/9 30% 9/9 40% &gt; 9/9 &gt; 40%   How to Keep a Dog’s Weight Healthy Does your dog have a body condition score of 4 or 5 out of 9? Congratulations! Keep up your good work and monitor for weight gain or loss by checking their BCS once a month. If your dog is just a little underweight (BCS 3/9) or a tad overweight (BCS 6/9) and you know that they’re otherwise healthy, you may be able to manage the problem at home. Start by figuring out how many calories your dog takes in every day, including any treats or other extras. Manufacturers should provide the caloric content of a food or treat on its label. Try increasing your dog’s caloric intake by 10% if they need to gain weight and decreasing it by 10% if they need to lose weight and reassess their body condition score in a month. If your dog’s BCS isn’t improving, make an appointment with your veterinarian. Of course, dogs who are severely underweight (a BCS of 1 or 2) or significantly overweight (a BCS of 7, 8, or 9) should be seen by a veterinarian. The doctor can rule out health problems as an underlying cause of your dog’s poor body condition score and recommend an appropriate diet.\n"
     ]
    }
   ],
   "source": [
    "text_splits = split_into_sentences(text)\n",
    "\n",
    "def word_check(sentence, words):\n",
    "    res = [all([k.lower() not in s.lower() for k in words]) for s in sentence]\n",
    "    return [sentence[i] for i in range(0, len(res)) if res[i]]\n",
    "\n",
    "# remove sentences with unwanted content\n",
    "clean_text = word_check(text_splits, remove_words)\n",
    "new_text = ' '.join(clean_text)\n",
    "\n",
    "print(f'Old text contain {len(text_splits)} sentences.\\nNew text contain {len(clean_text)} sentences.\\n')\n",
    "print(f'Below is the new text body: \\n {new_text}')"
   ]
  },
  {
   "cell_type": "markdown",
   "id": "8edbe9d2-4749-4e2d-b271-a4adedaf4a0e",
   "metadata": {},
   "source": [
    "**Export and save cleaned text**"
   ]
  },
  {
   "cell_type": "code",
   "execution_count": 32,
   "id": "e5a5123c-103d-49ae-8cbc-a5412a41557a",
   "metadata": {},
   "outputs": [],
   "source": [
    "savefolder = '/Users/dahliama/Desktop/SJSU/data298/github/projectmarley/data-preprocess/petmd/adultdog'\n",
    "savefilename = filename.replace('.json','')\n",
    "\n",
    "file = open(f\"{savefolder}/{savefilename}.txt\",\"x\")\n",
    "file.write(new_text)\n",
    "file.close()"
   ]
  },
  {
   "cell_type": "markdown",
   "id": "63495e02-b05e-426b-8266-6c3c3cfe523c",
   "metadata": {},
   "source": [
    "### Automated text data cleaning"
   ]
  },
  {
   "cell_type": "code",
   "execution_count": 45,
   "id": "4b05dbb0-12f3-4122-80cb-1baa63632d3d",
   "metadata": {},
   "outputs": [],
   "source": [
    "#------------------------------------------------------------------------------------#\n",
    "# Define function to split sentences in large text\n",
    "#------------------------------------------------------------------------------------#\n",
    "\n",
    "# -*- coding: utf-8 -*-\n",
    "alphabets= \"([A-Za-z])\"\n",
    "prefixes = \"(Mr|St|Mrs|Ms|Dr)[.]\"\n",
    "suffixes = \"(Inc|Ltd|Jr|Sr|Co)\"\n",
    "starters = \"(Mr|Mrs|Ms|Dr|Prof|Capt|Cpt|Lt|He\\s|She\\s|It\\s|They\\s|Their\\s|Our\\s|We\\s|But\\s|However\\s|That\\s|This\\s|Wherever)\"\n",
    "acronyms = \"([A-Z][.][A-Z][.](?:[A-Z][.])?)\"\n",
    "websites = \"[.](com|net|org|io|gov|edu|me)\"\n",
    "digits = \"([0-9])\"\n",
    "multiple_dots = r'\\.{2,}'\n",
    "\n",
    "def split_into_sentences(text: str) -> list[str]:\n",
    "    \"\"\"\n",
    "    Split the text into sentences.\n",
    "\n",
    "    If the text contains substrings \"<prd>\" or \"<stop>\", they would lead \n",
    "    to incorrect splitting because they are used as markers for splitting.\n",
    "\n",
    "    :param text: text to be split into sentences\n",
    "    :type text: str\n",
    "\n",
    "    :return: list of sentences\n",
    "    :rtype: list[str]\n",
    "    \"\"\"\n",
    "    text = \" \" + text + \"  \"\n",
    "    text = text.replace(\"\\n\",\" \")\n",
    "    text = re.sub(prefixes,\"\\\\1<prd>\",text)\n",
    "    text = re.sub(websites,\"<prd>\\\\1\",text)\n",
    "    text = re.sub(digits + \"[.]\" + digits,\"\\\\1<prd>\\\\2\",text)\n",
    "    text = re.sub(multiple_dots, lambda match: \"<prd>\" * len(match.group(0)) + \"<stop>\", text)\n",
    "    if \"Ph.D\" in text: text = text.replace(\"Ph.D.\",\"Ph<prd>D<prd>\")\n",
    "    text = re.sub(\"\\s\" + alphabets + \"[.] \",\" \\\\1<prd> \",text)\n",
    "    text = re.sub(acronyms+\" \"+starters,\"\\\\1<stop> \\\\2\",text)\n",
    "    text = re.sub(alphabets + \"[.]\" + alphabets + \"[.]\" + alphabets + \"[.]\",\"\\\\1<prd>\\\\2<prd>\\\\3<prd>\",text)\n",
    "    text = re.sub(alphabets + \"[.]\" + alphabets + \"[.]\",\"\\\\1<prd>\\\\2<prd>\",text)\n",
    "    text = re.sub(\" \"+suffixes+\"[.] \"+starters,\" \\\\1<stop> \\\\2\",text)\n",
    "    text = re.sub(\" \"+suffixes+\"[.]\",\" \\\\1<prd>\",text)\n",
    "    text = re.sub(\" \" + alphabets + \"[.]\",\" \\\\1<prd>\",text)\n",
    "    if \"”\" in text: text = text.replace(\".”\",\"”.\")\n",
    "    if \"\\\"\" in text: text = text.replace(\".\\\"\",\"\\\".\")\n",
    "    if \"!\" in text: text = text.replace(\"!\\\"\",\"\\\"!\")\n",
    "    if \"?\" in text: text = text.replace(\"?\\\"\",\"\\\"?\")\n",
    "    text = text.replace(\".\",\".<stop>\")\n",
    "    text = text.replace(\"?\",\"?<stop>\")\n",
    "    text = text.replace(\"!\",\"!<stop>\")\n",
    "    text = text.replace(\"<prd>\",\".\")\n",
    "    sentences = text.split(\"<stop>\")\n",
    "    sentences = [s.strip() for s in sentences]\n",
    "    if sentences and not sentences[-1]: sentences = sentences[:-1]\n",
    "    return sentences"
   ]
  },
  {
   "cell_type": "code",
   "execution_count": 46,
   "id": "1940ee40-34d5-437d-b2f8-c41b1e4f716e",
   "metadata": {},
   "outputs": [],
   "source": [
    "# define a list of words to remove (in lowercase)\n",
    "remove_words = ['petmd'\n",
    "                ,'chewy'\n",
    "                ,'featured image' \n",
    "                ,'image credit'\n",
    "                ,'istock' \n",
    "                ,'https://' \n",
    "                ,'.com'\n",
    "                ,'.gov'\n",
    "                ,'.edu'\n",
    "                ,'ncbi.'\n",
    "                ,'nlm.' \n",
    "                ,'citations '\n",
    "                ,'., et al.'\n",
    "                ,', vol.'\n",
    "                ,', no.'\n",
    "                ,', pp.'\n",
    "                ,'by: '\n",
    "               ]"
   ]
  },
  {
   "cell_type": "code",
   "execution_count": 47,
   "id": "b0d671f6-29e3-4cdb-9ffb-630b8d8be4e8",
   "metadata": {},
   "outputs": [],
   "source": [
    "def word_check(sentence, words):\n",
    "    res = [all([k.lower() not in s.lower() for k in words]) for s in sentence]\n",
    "    return [sentence[i] for i in range(0, len(res)) if res[i]]"
   ]
  },
  {
   "cell_type": "code",
   "execution_count": 58,
   "id": "d09dd2b0-f673-488d-9082-0f7e68048b09",
   "metadata": {},
   "outputs": [],
   "source": [
    "def clean_data(directory, folder, remove_words, savedir):\n",
    "    '''\n",
    "    Purpose: to clean all text data files in a given folder\n",
    "    @params directory: the directory path that contains different folders of data\n",
    "    @params folder: the individual folder that contains data for a topic\n",
    "    @params remove_words: a list of words to remove from text body\n",
    "    @params savedir: the directory path of the save location\n",
    "    returns: a dictionary where key = filename, value = the difference in text split length\n",
    "    '''\n",
    "    # initiate lists to store split text lengths for validation\n",
    "    old_text_len = []\n",
    "    new_text_len = []\n",
    "    \n",
    "    # get a list of files for a given folder\n",
    "    files = os.listdir(f'{directory}/{folder}')\n",
    "    \n",
    "    for file in files:\n",
    "        file_obj = open(file, 'r')\n",
    "        json_data = json.load(file_obj)\n",
    "        \n",
    "        # clean text data\n",
    "        raw_text = json_data[-1]['articleBody']  # extract raw article body\n",
    "        text = unicodedata.normalize(\"NFKD\", raw_text).replace('&#039;',\"'\").replace('&quot;','')  # clean up unicode\n",
    "        text_splits = split_into_sentences(text)\n",
    "        clean_text = word_check(text_splits, remove_words)\n",
    "        new_text = ' '.join(clean_text)\n",
    "        \n",
    "        # store text length stats\n",
    "        filenames.append(file)\n",
    "        old_text_len.append(len(text_splits))\n",
    "        new_text_len.append(len(clean_text))\n",
    "        \n",
    "        # export and save cleaned text data\n",
    "        savefilename = file.replace('.json','')\n",
    "\n",
    "        writefile = open(f\"{savedir}/{folder}/{savefilename}.txt\",\"w\")\n",
    "        writefile.write(new_text)\n",
    "        file.close()\n",
    "        \n",
    "    # merge outputs for validation of data cleansing\n",
    "    text_len_diff = [new_text_len[i] - old_text_len[i] for i in range(len(files))]\n",
    "    output = dict(zip(files, text_len_diff))\n",
    "        \n",
    "    return output"
   ]
  },
  {
   "cell_type": "code",
   "execution_count": 60,
   "id": "551fa492-40a1-439c-9c83-ffcd3c2cb972",
   "metadata": {},
   "outputs": [
    {
     "data": {
      "text/plain": [
       "['behavior',\n",
       " 'adultdog',\n",
       " 'disease-illness-injury',\n",
       " 'care',\n",
       " 'puppy',\n",
       " 'poisoning',\n",
       " 'seniordog',\n",
       " 'breed',\n",
       " 'symptoms',\n",
       " 'medication',\n",
       " 'nutrition',\n",
       " 'allergies']"
      ]
     },
     "execution_count": 60,
     "metadata": {},
     "output_type": "execute_result"
    }
   ],
   "source": [
    "directory = '/Users/dahliama/Desktop/SJSU/data298/github/projectmarley/data-collect/petmd'\n",
    "folders = os.listdir(directory)\n",
    "folders = [folder for folder in folders if '.' not in folder]\n",
    "folders"
   ]
  },
  {
   "cell_type": "code",
   "execution_count": null,
   "id": "b18137c7-af9f-4839-8ece-8e64f880c5ba",
   "metadata": {},
   "outputs": [],
   "source": [
    "savedir = '/Users/dahliama/Desktop/SJSU/data298/github/projectmarley/data-preprocess/petmd'\n",
    "directory = '/Users/dahliama/Desktop/SJSU/data298/github/projectmarley/data-collect/petmd'\n",
    "folders = os.listdir(directory)\n",
    "folders = [folder for folder in folders if '.' not in folder]\n",
    "\n",
    "# clean all data\n",
    "text_len_validates = []\n",
    "\n",
    "for folder in folders:\n",
    "    res = clean_data(directory, folder, remove_words, savedir)\n",
    "    text_len_validates.append(res)"
   ]
  }
 ],
 "metadata": {
  "kernelspec": {
   "display_name": "Python 3 (ipykernel)",
   "language": "python",
   "name": "python3"
  },
  "language_info": {
   "codemirror_mode": {
    "name": "ipython",
    "version": 3
   },
   "file_extension": ".py",
   "mimetype": "text/x-python",
   "name": "python",
   "nbconvert_exporter": "python",
   "pygments_lexer": "ipython3",
   "version": "3.10.9"
  }
 },
 "nbformat": 4,
 "nbformat_minor": 5
}
